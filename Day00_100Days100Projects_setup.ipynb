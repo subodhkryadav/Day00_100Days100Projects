{
 "cells": [
  {
   "cell_type": "markdown",
   "id": "db8ba8fb-8e57-40b2-b986-995c43ef0ef0",
   "metadata": {},
   "source": [
    "# Day00_100Days100Projects_setup"
   ]
  },
  {
   "cell_type": "markdown",
   "id": "f22ddbca-aec7-4e0f-b616-14242ef20455",
   "metadata": {},
   "source": [
    "### First line of code"
   ]
  },
  {
   "cell_type": "code",
   "execution_count": 6,
   "id": "3cbe96b3-90a7-4317-8bf3-e9020237675c",
   "metadata": {},
   "outputs": [
    {
     "name": "stdout",
     "output_type": "stream",
     "text": [
      "Hello World!\n"
     ]
    }
   ],
   "source": [
    "print(\"Hello World!\")"
   ]
  },
  {
   "cell_type": "markdown",
   "id": "6ee566ff-4857-4be7-8bfa-3b2ed16235da",
   "metadata": {},
   "source": [
    "### Variable: virtual 'Boxes'"
   ]
  },
  {
   "cell_type": "code",
   "execution_count": 10,
   "id": "814c385f-c6a9-42ff-b749-2a2edea2c056",
   "metadata": {},
   "outputs": [
    {
     "name": "stdout",
     "output_type": "stream",
     "text": [
      "name:- Subodh\n",
      "age:- 19\n",
      "height:- 5.8\n",
      "is_gamer:-  False\n"
     ]
    }
   ],
   "source": [
    "name=\"Subodh\"\n",
    "age=19\n",
    "height=5.8\n",
    "is_gamer=False\n",
    "\n",
    "#print this value\n",
    "print(\"name:-\",name)\n",
    "print(\"age:-\",age)\n",
    "print(\"height:-\",height)\n",
    "print(\"is_gamer:- \",is_gamer)"
   ]
  },
  {
   "cell_type": "markdown",
   "id": "bb5e69e3-143f-46be-ac8b-ae828d694411",
   "metadata": {},
   "source": [
    "### Talking to the User: input()"
   ]
  },
  {
   "cell_type": "code",
   "execution_count": 13,
   "id": "7b837018-b84e-401f-9f25-90e5c5c6ae95",
   "metadata": {},
   "outputs": [
    {
     "name": "stdin",
     "output_type": "stream",
     "text": [
      "whats your name:-  subodh\n"
     ]
    },
    {
     "name": "stdout",
     "output_type": "stream",
     "text": [
      "welcome,  subodh\n"
     ]
    }
   ],
   "source": [
    "user_name=input(\"whats your name:- \")\n",
    "print(\"welcome, \",user_name)"
   ]
  },
  {
   "cell_type": "markdown",
   "id": "1ab9750b-d59f-4a46-872d-e6b46bb2abba",
   "metadata": {},
   "source": [
    "### Math magic"
   ]
  },
  {
   "cell_type": "code",
   "execution_count": 16,
   "id": "21e27356-21f7-44dd-8c87-4abc475bd3ba",
   "metadata": {},
   "outputs": [
    {
     "name": "stdout",
     "output_type": "stream",
     "text": [
      "13\n",
      "7\n",
      "30\n",
      "3.3333333333333335\n",
      "3\n",
      "1\n",
      "1000\n"
     ]
    }
   ],
   "source": [
    "x=3\n",
    "y=10\n",
    "print(x+y)\n",
    "print(y-x)\n",
    "print(x*y)\n",
    "print(y/x)\n",
    "print(y//x)\n",
    "print(y%x)\n",
    "print(y**x)"
   ]
  },
  {
   "cell_type": "markdown",
   "id": "83da050a-67f4-4a0b-939a-c4e0325cabfa",
   "metadata": {},
   "source": [
    "### Decision Time: if,Elif,Else"
   ]
  },
  {
   "cell_type": "code",
   "execution_count": 21,
   "id": "85765efc-c73f-4c7c-89e4-5a3ccbb7b34a",
   "metadata": {},
   "outputs": [
    {
     "name": "stdin",
     "output_type": "stream",
     "text": [
      "Eneter your age:- 18\n"
     ]
    },
    {
     "name": "stdout",
     "output_type": "stream",
     "text": [
      "you are an adult.\n"
     ]
    }
   ],
   "source": [
    "age=int(input(\"Eneter your age:-\"))\n",
    "if age>=18:\n",
    "    print(\"you are an adult.\")\n",
    "else:\n",
    "    print(\"you are a minor.\")"
   ]
  },
  {
   "cell_type": "code",
   "execution_count": 23,
   "id": "d13cbe98-481a-4e42-94dd-50282d2a2585",
   "metadata": {},
   "outputs": [
    {
     "name": "stdin",
     "output_type": "stream",
     "text": [
      "Eneter your age:- 14\n"
     ]
    },
    {
     "name": "stdout",
     "output_type": "stream",
     "text": [
      "you are a teanager\n"
     ]
    }
   ],
   "source": [
    "age=int(input(\"Eneter your age:-\"))\n",
    "if age>=18:\n",
    "    print(\"you are an adult.\")\n",
    "elif age>=13:\n",
    "    print(\"you are a teanager\")\n",
    "else:\n",
    "    print(\"you are a minor.\")"
   ]
  },
  {
   "cell_type": "markdown",
   "id": "4060de66-e40e-4150-bf01-6c88added5f5",
   "metadata": {},
   "source": [
    "### Loops:Repeating Action"
   ]
  },
  {
   "cell_type": "code",
   "execution_count": 28,
   "id": "7094f1a2-8221-4aeb-8193-29d4fc93134a",
   "metadata": {},
   "outputs": [
    {
     "name": "stdout",
     "output_type": "stream",
     "text": [
      "count is :  0\n",
      "count is :  1\n",
      "count is :  2\n",
      "count is :  3\n",
      "count is :  4\n"
     ]
    }
   ],
   "source": [
    "count=0\n",
    "while count <5:\n",
    "    print(\"count is : \",count)\n",
    "    count=count+1"
   ]
  },
  {
   "cell_type": "code",
   "execution_count": 34,
   "id": "75feb4b3-2a95-4efc-91d0-b197ed1cc101",
   "metadata": {},
   "outputs": [
    {
     "name": "stdout",
     "output_type": "stream",
     "text": [
      "Game1\n",
      "Game2\n",
      "Game3\n"
     ]
    }
   ],
   "source": [
    "video_game=[\"Game1\",\"Game2\",\"Game3\"]\n",
    "for game in video_game:\n",
    "    print(game)"
   ]
  },
  {
   "cell_type": "markdown",
   "id": "6da41005-b574-4329-97b9-daa0fffe175e",
   "metadata": {},
   "source": [
    "### List: Keep Track of Stuff"
   ]
  },
  {
   "cell_type": "code",
   "execution_count": 37,
   "id": "84495c75-2394-4ae2-9170-839257dfe900",
   "metadata": {},
   "outputs": [
    {
     "name": "stdout",
     "output_type": "stream",
     "text": [
      "Game1\n",
      "['Game1', 'Game2', 'Game3', 'game4']\n",
      "['Game1', 'game8', 'Game3', 'game4']\n"
     ]
    }
   ],
   "source": [
    "video_game=[\"Game1\",\"Game2\",\"Game3\"]\n",
    "print(video_game[0])\n",
    "video_game.append(\"game4\")\n",
    "print(video_game)\n",
    "video_game[1]=\"game8\"\n",
    "print(video_game)"
   ]
  },
  {
   "cell_type": "markdown",
   "id": "594d85e8-83c7-455d-b746-f7015164f588",
   "metadata": {},
   "source": [
    "### Function:Build Your Own Commands"
   ]
  },
  {
   "cell_type": "code",
   "execution_count": 42,
   "id": "77bd7aff-88df-4907-9664-efbacf6ab0d2",
   "metadata": {},
   "outputs": [
    {
     "name": "stdout",
     "output_type": "stream",
     "text": [
      "Hello form your very first function\n"
     ]
    }
   ],
   "source": [
    "def say_hello():\n",
    "    print(\"Hello form your very first function\")\n",
    "\n",
    "say_hello()"
   ]
  },
  {
   "cell_type": "code",
   "execution_count": 48,
   "id": "36f563b8-11f3-4f07-a106-d08742ab3b16",
   "metadata": {},
   "outputs": [
    {
     "name": "stdout",
     "output_type": "stream",
     "text": [
      "hello subodh\n"
     ]
    }
   ],
   "source": [
    "def say_hello(name):\n",
    "    print(\"hello\",name)\n",
    "say_hello('subodh')"
   ]
  },
  {
   "cell_type": "code",
   "execution_count": 50,
   "id": "86442467-19a4-4243-b0d3-7bdafcf405d7",
   "metadata": {},
   "outputs": [
    {
     "name": "stdout",
     "output_type": "stream",
     "text": [
      "result:  45\n"
     ]
    }
   ],
   "source": [
    "def multiply(a,b):\n",
    "    return a*b\n",
    "result=multiply(3,15)\n",
    "print(\"result: \",result)"
   ]
  },
  {
   "cell_type": "markdown",
   "id": "173879f5-9478-4ef4-8db5-05d048bc880f",
   "metadata": {},
   "source": [
    "## Mini Project: Number Guessing Game"
   ]
  },
  {
   "cell_type": "code",
   "execution_count": 61,
   "id": "1f371e2d-a6dc-481c-bc6c-7b38032b5949",
   "metadata": {},
   "outputs": [
    {
     "name": "stdout",
     "output_type": "stream",
     "text": [
      "I am thinking of a number between 1 and 10.\n"
     ]
    },
    {
     "name": "stdin",
     "output_type": "stream",
     "text": [
      "Take a guess:  5\n"
     ]
    },
    {
     "name": "stdout",
     "output_type": "stream",
     "text": [
      "📉 Too low! Try again.\n"
     ]
    },
    {
     "name": "stdin",
     "output_type": "stream",
     "text": [
      "Take a guess:  8\n"
     ]
    },
    {
     "name": "stdout",
     "output_type": "stream",
     "text": [
      "📈 Too high! Try again.\n"
     ]
    },
    {
     "name": "stdin",
     "output_type": "stream",
     "text": [
      "Take a guess:  7\n"
     ]
    },
    {
     "name": "stdout",
     "output_type": "stream",
     "text": [
      "🎉 Congratulations! You guessed the number!\n"
     ]
    }
   ],
   "source": [
    "import random\n",
    "\n",
    "secret_number = random.randint(1, 10)\n",
    "attempts = 3\n",
    "\n",
    "print(\"I am thinking of a number between 1 and 10.\")\n",
    "\n",
    "while attempts > 0:\n",
    "    guess = int(input(\"Take a guess: \"))\n",
    "    if guess == secret_number:\n",
    "        print(\"🎉 Congratulations! You guessed the number!\")\n",
    "        break\n",
    "    elif guess < secret_number:\n",
    "        print(\"📉 Too low! Try again.\")\n",
    "    else:\n",
    "        print(\"📈 Too high! Try again.\")\n",
    "    attempts -= 1\n",
    "\n",
    "if attempts == 0:\n",
    "    print(f\"😔 Sorry, you've run out of attempts. The secret number was {secret_number}.\")"
   ]
  },
  {
   "cell_type": "code",
   "execution_count": null,
   "id": "e8415a22-6568-46ba-8ec1-5dbdca2dfd73",
   "metadata": {},
   "outputs": [],
   "source": []
  }
 ],
 "metadata": {
  "kernelspec": {
   "display_name": "Python 3 (ipykernel)",
   "language": "python",
   "name": "python3"
  },
  "language_info": {
   "codemirror_mode": {
    "name": "ipython",
    "version": 3
   },
   "file_extension": ".py",
   "mimetype": "text/x-python",
   "name": "python",
   "nbconvert_exporter": "python",
   "pygments_lexer": "ipython3",
   "version": "3.12.3"
  }
 },
 "nbformat": 4,
 "nbformat_minor": 5
}
